{
  "nbformat": 4,
  "nbformat_minor": 0,
  "metadata": {
    "colab": {
      "provenance": [],
      "authorship_tag": "ABX9TyNH2d8B6J649ecJe+d2b0f3",
      "include_colab_link": true
    },
    "kernelspec": {
      "name": "python3",
      "display_name": "Python 3"
    },
    "language_info": {
      "name": "python"
    }
  },
  "cells": [
    {
      "cell_type": "markdown",
      "metadata": {
        "id": "view-in-github",
        "colab_type": "text"
      },
      "source": [
        "<a href=\"https://colab.research.google.com/github/Zoneti/fiap-postech-tech-challenge4/blob/main/Tech_Challeng_4.ipynb\" target=\"_parent\"><img src=\"https://colab.research.google.com/assets/colab-badge.svg\" alt=\"Open In Colab\"/></a>"
      ]
    },
    {
      "cell_type": "markdown",
      "source": [
        "# Tech Challenge 4 - 2DTAT\n",
        "\n",
        "\n",
        "---\n",
        "\n",
        "\n",
        "**Grupo 44**\n",
        "\n",
        "Rodrigo da Silva Moreira - RM 350817\n",
        "\n",
        "Gabriel Zoneti Figueira Peres - RM 351089"
      ],
      "metadata": {
        "id": "eJcTQTtlbwf8"
      }
    },
    {
      "cell_type": "markdown",
      "source": [
        "# Importação das Bibliotecas e Configuração"
      ],
      "metadata": {
        "id": "-GDZS9CWb3xL"
      }
    },
    {
      "cell_type": "code",
      "execution_count": 1,
      "metadata": {
        "id": "Tcdc4nQ8bP8K"
      },
      "outputs": [],
      "source": [
        "# Bibliotecas a serem utilizadas\n",
        "\n",
        "import pandas as pd\n",
        "import matplotlib.pyplot as plt\n",
        "import matplotlib.ticker as ticker\n",
        "import seaborn as sns\n",
        "import numpy as np\n",
        "import missingno as msno\n",
        "from io import StringIO\n",
        "import warnings"
      ]
    },
    {
      "cell_type": "code",
      "source": [
        "# Configuração do Seaborn\n",
        "\n",
        "sns.set(style=\"ticks\", color_codes=True)\n",
        "sns.set(style=\"darkgrid\")"
      ],
      "metadata": {
        "id": "MtweQtoyb7N-"
      },
      "execution_count": 2,
      "outputs": []
    },
    {
      "cell_type": "code",
      "source": [
        "#Filtro dos warnings (não aparecer nas execuções)\n",
        "\n",
        "warnings.filterwarnings('ignore')"
      ],
      "metadata": {
        "id": "StJUsjSYb9uu"
      },
      "execution_count": 3,
      "outputs": []
    },
    {
      "cell_type": "markdown",
      "source": [
        "# Leitura da Base e Preparação"
      ],
      "metadata": {
        "id": "rwhP1ipVcolb"
      }
    },
    {
      "cell_type": "code",
      "source": [],
      "metadata": {
        "id": "HRNYU4pkb_7R"
      },
      "execution_count": null,
      "outputs": []
    }
  ]
}